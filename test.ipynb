{
 "cells": [
  {
   "cell_type": "code",
   "execution_count": 2,
   "metadata": {},
   "outputs": [],
   "source": [
    "from flask import Flask, request, render_template, send_file\n",
    "import psycopg2\n",
    "import pandas as pd\n",
    "import os\n",
    "from google import genai\n",
    "from dotenv import load_dotenv\n",
    "\n",
    "# Load environment variables\n",
    "load_dotenv()\n",
    "PG_HOST = os.getenv(\"PG_HOST\", \"localhost\")\n",
    "PG_DATABASE = os.getenv(\"PG_DATABASE\", \"my_local_db\")\n",
    "PG_USER = os.getenv(\"PG_USER\", \"postgres\")\n",
    "PG_PASSWORD = os.getenv(\"PG_PASSWORD\", \"your_password\")\n",
    "PG_PORT = os.getenv(\"PG_PORT\", \"5432\")"
   ]
  },
  {
   "cell_type": "code",
   "execution_count": 3,
   "metadata": {},
   "outputs": [],
   "source": [
    "def execute_query(sql_query):\n",
    "    conn = psycopg2.connect(\n",
    "        host=PG_HOST,\n",
    "        database=PG_DATABASE,\n",
    "        user=PG_USER,\n",
    "        password=PG_PASSWORD,\n",
    "        port=PG_PORT\n",
    "    )\n",
    "    cursor = conn.cursor()\n",
    "    cursor.execute(\"SELECT * FROM customers LIMIT 5;\")  # Test query\n",
    "    rows = cursor.fetchall()\n",
    "    print(\"Test Query Result:\", rows)  # Print test query output\n",
    "    conn.close()"
   ]
  },
  {
   "cell_type": "code",
   "execution_count": 5,
   "metadata": {},
   "outputs": [
    {
     "name": "stdout",
     "output_type": "stream",
     "text": [
      "Test Query Result: [(1, 'Alice', 'Johnson', 'alice@example.com', 'New York', datetime.date(2022, 1, 15)), (2, 'Bob', 'Smith', 'bob@example.com', 'Los Angeles', datetime.date(2021, 5, 22)), (3, 'Charlie', 'Brown', 'charlie@example.com', 'Chicago', datetime.date(2023, 7, 10)), (4, 'David', 'Williams', 'david@example.com', 'Houston', datetime.date(2022, 3, 30)), (5, 'Emma', 'Davis', 'emma@example.com', 'San Francisco', datetime.date(2021, 8, 12))]\n"
     ]
    }
   ],
   "source": [
    "execute_query(\"SELECT * FROM customers LIMIT 5;\")"
   ]
  }
 ],
 "metadata": {
  "kernelspec": {
   "display_name": "azure_sql_ai",
   "language": "python",
   "name": "python3"
  },
  "language_info": {
   "codemirror_mode": {
    "name": "ipython",
    "version": 3
   },
   "file_extension": ".py",
   "mimetype": "text/x-python",
   "name": "python",
   "nbconvert_exporter": "python",
   "pygments_lexer": "ipython3",
   "version": "3.12.9"
  }
 },
 "nbformat": 4,
 "nbformat_minor": 2
}
